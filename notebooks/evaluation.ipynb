{
 "cells": [
  {
   "cell_type": "code",
   "execution_count": 9,
   "metadata": {},
   "outputs": [],
   "source": [
    "from openai import OpenAI\n",
    "import json\n",
    "client = OpenAI()\n"
   ]
  },
  {
   "cell_type": "code",
   "execution_count": 2,
   "metadata": {},
   "outputs": [],
   "source": [
    "poems_fine_tuned_gpt35 = []\n",
    "with open('../output/poems_finetuned_gpt35.json', encoding='utf-8') as f:\n",
    "    poems_fine_tuned_gpt35 = json.load(f)"
   ]
  },
  {
   "cell_type": "code",
   "execution_count": 3,
   "metadata": {},
   "outputs": [],
   "source": [
    "poems_fine_tuned_llama2 = []\n",
    "with open('../output/poems_finetuned_llama2.json', encoding='utf-8') as f:\n",
    "    poems_fine_tuned_llama2 = json.load(f)"
   ]
  },
  {
   "cell_type": "code",
   "execution_count": 4,
   "metadata": {},
   "outputs": [],
   "source": [
    "poems_no_fine_tuned_gpt35 = []\n",
    "with open('../output/poems_nofinetuned_gpt35.json', encoding='utf-8') as f:\n",
    "    poems_no_fine_tuned_gpt35 = json.load(f)\n"
   ]
  },
  {
   "cell_type": "code",
   "execution_count": 5,
   "metadata": {},
   "outputs": [],
   "source": [
    "poems_no_fine_tuned_llama2 = []\n",
    "with open('../output/poems_nofinetuned_llama2.json', encoding='utf-8') as f:\n",
    "    poems_no_fine_tuned_llama2 = json.load(f)"
   ]
  },
  {
   "cell_type": "code",
   "execution_count": 6,
   "metadata": {},
   "outputs": [],
   "source": [
    "poems_rag_gpt35 = []\n",
    "with open('../output/poems_rag_gpt35.json', encoding='utf-8') as f:\n",
    "    poems_rag_gpt35 = json.load(f)"
   ]
  },
  {
   "cell_type": "code",
   "execution_count": 7,
   "metadata": {},
   "outputs": [
    {
     "data": {
      "text/plain": [
       "'Whispers of the wind\\n\\nSaying, “Be careful, he’s a desperate man\\n\\nHe’s got a lot of enemies\\n\\nHe’s a dangerous, he’s a deadly man\\n\\nHe’s got a lot of guns\\n\\nHe’s a desperate, he’s a deadly man\\n\\nHe’s got a lot of guns\\n\\nHe’s a desperate, he’s a deadly man\\n\\nHe’s got a lot of guns\\n\\nHe’s a desperate, he’s a deadly man\\n\\nHe’s got a lot of guns\\n\\nHe’s a desperate, he’s a deadly man\\n\\nHe’s got a lot of guns\\n\\nHe’s a desperate, he’s a deadly man\\n\\nHe’s got a lot of guns\\n\\nHe’s a desperate, he’s a deadly man\\n\\nHe’s got a lot of guns\\n\\nHe’s a desperate, he’s a deadly man\\n\\nHe’s got a lot of guns\\n\\nHe’s a desperate, he’s a deadly man'"
      ]
     },
     "execution_count": 7,
     "metadata": {},
     "output_type": "execute_result"
    }
   ],
   "source": [
    "list(poems_fine_tuned_llama2[0].values())[0]"
   ]
  },
  {
   "cell_type": "code",
   "execution_count": null,
   "metadata": {},
   "outputs": [],
   "source": []
  },
  {
   "cell_type": "code",
   "execution_count": 11,
   "metadata": {},
   "outputs": [
    {
     "name": "stdout",
     "output_type": "stream",
     "text": [
      "The first poem, \"Whispers of the Wind: The cries of night jar on the road,\" is most close to Bob Dylan's style. It has a lyrical quality with a strong focus on nature and emotions, similar to Dylan's poetic songwriting.\n"
     ]
    }
   ],
   "source": [
    "\n",
    "response = client.chat.completions.create(\n",
    "  model=\"gpt-4\",\n",
    "  # response_format={ \"type\": \"json_object\" },\n",
    "  messages=[\n",
    "    {\"role\": \"system\", \"content\": \"You are a helpful poetry critic.\"},\n",
    "    {\"role\": \"user\", \"content\": \"Which of the following 5 poems is most close to Bob Dylan's style? Give me the index, like the first/second/third...\"\n",
    "     +list(poems_fine_tuned_gpt35[0])[0]+list(poems_fine_tuned_gpt35[0].values())[0]\n",
    "     +list(poems_fine_tuned_llama2[0])[0]+list(poems_fine_tuned_llama2[0].values())[0]\n",
    "     +list(poems_no_fine_tuned_gpt35[0])[0]+list(poems_no_fine_tuned_gpt35[0].values())[0]\n",
    "     +list(poems_no_fine_tuned_llama2[0])[0]+list(poems_no_fine_tuned_llama2[0].values())[0]\n",
    "     +list(poems_rag_gpt35[0])[0]+list(poems_rag_gpt35[0].values())[0]\n",
    "     }\n",
    "  ]\n",
    ")\n",
    "print(response.choices[0].message.content)"
   ]
  },
  {
   "cell_type": "code",
   "execution_count": null,
   "metadata": {},
   "outputs": [],
   "source": []
  }
 ],
 "metadata": {
  "kernelspec": {
   "display_name": "Python 3",
   "language": "python",
   "name": "python3"
  },
  "language_info": {
   "codemirror_mode": {
    "name": "ipython",
    "version": 3
   },
   "file_extension": ".py",
   "mimetype": "text/x-python",
   "name": "python",
   "nbconvert_exporter": "python",
   "pygments_lexer": "ipython3",
   "version": "3.10.13"
  }
 },
 "nbformat": 4,
 "nbformat_minor": 2
}
